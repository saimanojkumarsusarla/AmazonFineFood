{
 "cells": [
  {
   "cell_type": "markdown",
   "metadata": {},
   "source": [
    "# Train/Cross Validation/Test Split"
   ]
  },
  {
   "cell_type": "markdown",
   "metadata": {},
   "source": [
    "- The data is divided into train Cross validation and Test.\n",
    "<pre> \n",
    "The data given here is temporial data.So we have to divide the data according to time.\n",
    "Divide first 60% data as Train and next 20% as Cross Validation and next 20% as Test Data\n",
    "</pre>"
   ]
  },
  {
   "cell_type": "markdown",
   "metadata": {},
   "source": [
    "<b>Only reviews are used in the modelling</b>"
   ]
  },
  {
   "cell_type": "markdown",
   "metadata": {},
   "source": [
    "# Modelling of Amazon Fine Food Reviews"
   ]
  },
  {
   "cell_type": "code",
   "execution_count": 2,
   "metadata": {},
   "outputs": [
    {
     "name": "stderr",
     "output_type": "stream",
     "text": [
      "/home/varma/anaconda3/lib/python3.6/site-packages/sklearn/cross_validation.py:41: DeprecationWarning: This module was deprecated in version 0.18 in favor of the model_selection module into which all the refactored classes and functions are moved. Also note that the interface of the new CV iterators are different from that of this module. This module will be removed in 0.20.\n",
      "  \"This module will be removed in 0.20.\", DeprecationWarning)\n"
     ]
    },
    {
     "data": {
      "text/plain": [
       "0    this witty little book makes my son laugh at l...\n",
       "1    I can remember seeing the show when it aired o...\n",
       "2    Beetlejuice is a well written movie ..... ever...\n",
       "3    A twist of rumplestiskin captured on film, sta...\n",
       "4    A twist of rumplestiskin captured on film, sta...\n",
       "Name: Text, dtype: object"
      ]
     },
     "execution_count": 2,
     "metadata": {},
     "output_type": "execute_result"
    }
   ],
   "source": [
    "import sqlite3\n",
    "import pandas as pd\n",
    "import numpy as np\n",
    "import nltk\n",
    "import string\n",
    "import matplotlib.pyplot as plt\n",
    "import numpy as np\n",
    "\n",
    "from sklearn.feature_extraction.text import TfidfTransformer\n",
    "from sklearn.feature_extraction.text import CountVectorizer\n",
    "from sklearn.cross_validation import train_test_split\n",
    "from sklearn.metrics import confusion_matrix\n",
    "from sklearn import metrics\n",
    "from sklearn.metrics import roc_curve, auc\n",
    "from nltk.stem.porter import PorterStemmer\n",
    "\n",
    "con = sqlite3.connect('database.sqlite')\n",
    "\n",
    "messages = pd.read_sql_query(\"\"\"\n",
    "SELECT Score, Summary,Text\n",
    "FROM Reviews\n",
    "WHERE Score != 3 order by Time\n",
    "\"\"\", con)\n",
    "\n",
    "def partition(x):\n",
    "    if x < 3:\n",
    "        return 'negative'\n",
    "    return 'positive'\n",
    "\n",
    "Score = messages['Score']\n",
    "Score = Score.map(partition)\n",
    "Text=messages['Text']\n",
    "Text.head()"
   ]
  },
  {
   "cell_type": "markdown",
   "metadata": {},
   "source": [
    "# Train/Test Spliit"
   ]
  },
  {
   "cell_type": "code",
   "execution_count": 10,
   "metadata": {},
   "outputs": [
    {
     "name": "stdout",
     "output_type": "stream",
     "text": [
      "Train Shape (315488,)\n",
      "Test Shape (105163,)\n",
      "Cross Validation Shape (105163,)\n"
     ]
    }
   ],
   "source": [
    "X_train,y_train=Text[:315488],Score[:315488]\n",
    "X_cv,y_cv=Text[315488:420651],Score[315488:420651]\n",
    "X_test,y_test=Text[420651:],Score[420651:]\n",
    "print(\"Train Shape\",X_train.shape)\n",
    "print(\"Test Shape\",X_test.shape)\n",
    "print(\"Cross Validation Shape\",X_cv.shape)"
   ]
  },
  {
   "cell_type": "markdown",
   "metadata": {},
   "source": [
    "# Converting into lowercase for train data"
   ]
  },
  {
   "cell_type": "code",
   "execution_count": 12,
   "metadata": {
    "scrolled": true
   },
   "outputs": [
    {
     "name": "stdout",
     "output_type": "stream",
     "text": [
      "['b\"this witty little book makes my son laugh at loud. i recite it in the car as we\\'re driving along and he always can sing the refrain. he\\'s learned about whales, india, drooping roses:  i love all the new words this book  introduces and the silliness of it all.  this is a classic book i am  willing to bet my son will still be able to recite from memory when he is  in college\"', 'b\"i can remember seeing the show when it aired on television years ago, when i was a child.  my sister later bought me the lp (which i have to this day,  i\\'m thirty something).i used this series of books &amp; songs when i did my  student teaching for preschoolers &amp; turned the whole school on to it.  i am now purchasing it on cd, along with the books for my children 5 &amp;  2.  the tradition lives on!\"']\n"
     ]
    }
   ],
   "source": [
    "text_lst=X_train\n",
    "text_lst=[item.encode('utf-8') for item in text_lst]\n",
    "cX_train=[str(item).lower() for item in text_lst]\n",
    "print (cX_train[0:2])"
   ]
  },
  {
   "cell_type": "code",
   "execution_count": 36,
   "metadata": {},
   "outputs": [
    {
     "name": "stdout",
     "output_type": "stream",
     "text": [
      "['b\\'i\\\\\\'ve ordered this coffee several times & it has been excellent every time.  it\\\\\\'s not over-roasted/burnt tasting & the flavor is very complex.  the beans are oily, black & i found no quakers (underdeveloped coffee beans that make coffee taste awful - they stick out because they do not roast/darken properly).  that\\\\\\'s a good test of coffee beans:  empty the bag on a cookie sheet & see how many quakers you find.  a few is \"acceptable\" but more than 10 is pretty bad in my opinion.  if you\\\\\\'ve always been disappointed in dark roast coffee, you may want to give this a try but if you just don\\\\\\'t like dark roast; you will probably not like this one.<br /><br />i use the \"pour over\" method to brew coffee every day because at this time, there is only one non-commercial drip coffeemaker that gets water to the ideal brewing temperature of 192f to 204 f.  i use cold, filtered water, a melitta natural brown filter, manual drip coffee filter & brew directly into my stainless carafe.  i heat the water to boiling, pour a few tablespoons over the grounds to saturate & plump up the beans, wait a minute & then flood the grounds with the rest of the water.  there is a lot of crema, the beautiful reddish brown foam that develops on top of the beans, & it smells & tastes wonderful.<br /><br />i brew directly in to this carafe using this coffee cone (pour over method):<br /><a href=\"http://www.amazon.com/gp/product/b000buddty\">rsvp manual drip coffee filter cone for carafes or thermos</a><br /><br />i use this grinder:<a href=\"http://www.amazon.com/gp/product/b0043095ww\">bodum bistro electric burr coffee grinder, black</a><br /><br />i use this water kettle to heat the water:<a href=\"http://www.amazon.com/gp/product/b0012s1v2a\">oster 5965 stainless-steel 1-1/2-liter electric water kettle</a><br /><br />i use these coffee filters:<a href=\"http://www.amazon.com/gp/product/b000p0beyg\">melitta 626412 40 count #6 natural brown cone coffee filters</a>\\'', 'b\"love this stuff - it\\'s perfect for my favorite peruvian dish.  great price too.  i think it is about time to reorder, as a matter of fact!\"']\n"
     ]
    }
   ],
   "source": [
    "text_lst=X_cv\n",
    "text_lst=[item.encode('utf-8') for item in text_lst]\n",
    "cX_cv=[str(item).lower() for item in text_lst]\n",
    "print (cX_cv[0:2])"
   ]
  },
  {
   "cell_type": "markdown",
   "metadata": {},
   "source": [
    "# Converting into lowercase for Test data"
   ]
  },
  {
   "cell_type": "code",
   "execution_count": 15,
   "metadata": {},
   "outputs": [
    {
     "name": "stdout",
     "output_type": "stream",
     "text": [
      "['b\"i was a little hesitant when i read it had a herbal taste , i like a conventional tasting coffee. it just arrived and i immediately brewed a pot. i definitely wasn\\'t disappointed, i like this much more than the usual starbuck\\'s french roast\"', \"b'buyer beware, the worst flavored hot cocoa i have ever tasted. never again would i waste my $ for this product, i tried different machine sizes and options, the rest goes in the garbage. what a rip off with two packages.'\"]\n"
     ]
    }
   ],
   "source": [
    "text_test=X_test\n",
    "text_test=[item.encode('utf-8') for item in text_test]\n",
    "cX_test=[str(item).lower() for item in text_test]\n",
    "print( cX_test[0:2])"
   ]
  },
  {
   "cell_type": "markdown",
   "metadata": {},
   "source": [
    "# Removing Html tags from train data"
   ]
  },
  {
   "cell_type": "code",
   "execution_count": null,
   "metadata": {},
   "outputs": [],
   "source": [
    "import re\n",
    "\n",
    "for i in range(len(cX_train)):\n",
    "    cX_train[i]=re.sub(r'<.*?>', '', cX_train[i])\n",
    "print (cX_train[0:2])"
   ]
  },
  {
   "cell_type": "code",
   "execution_count": 38,
   "metadata": {},
   "outputs": [
    {
     "name": "stdout",
     "output_type": "stream",
     "text": [
      "['b\\'i\\\\\\'ve ordered this coffee several times & it has been excellent every time.  it\\\\\\'s not over-roasted/burnt tasting & the flavor is very complex.  the beans are oily, black & i found no quakers (underdeveloped coffee beans that make coffee taste awful - they stick out because they do not roast/darken properly).  that\\\\\\'s a good test of coffee beans:  empty the bag on a cookie sheet & see how many quakers you find.  a few is \"acceptable\" but more than 10 is pretty bad in my opinion.  if you\\\\\\'ve always been disappointed in dark roast coffee, you may want to give this a try but if you just don\\\\\\'t like dark roast; you will probably not like this one.i use the \"pour over\" method to brew coffee every day because at this time, there is only one non-commercial drip coffeemaker that gets water to the ideal brewing temperature of 192f to 204 f.  i use cold, filtered water, a melitta natural brown filter, manual drip coffee filter & brew directly into my stainless carafe.  i heat the water to boiling, pour a few tablespoons over the grounds to saturate & plump up the beans, wait a minute & then flood the grounds with the rest of the water.  there is a lot of crema, the beautiful reddish brown foam that develops on top of the beans, & it smells & tastes wonderful.i brew directly in to this carafe using this coffee cone (pour over method):rsvp manual drip coffee filter cone for carafes or thermosi use this grinder:bodum bistro electric burr coffee grinder, blacki use this water kettle to heat the water:oster 5965 stainless-steel 1-1/2-liter electric water kettlei use these coffee filters:melitta 626412 40 count #6 natural brown cone coffee filters\\'', 'b\"love this stuff - it\\'s perfect for my favorite peruvian dish.  great price too.  i think it is about time to reorder, as a matter of fact!\"']\n"
     ]
    }
   ],
   "source": [
    "import re\n",
    "\n",
    "for i in range(len(cX_cv)):\n",
    "    cX_cv[i]=re.sub(r'<.*?>', '', cX_cv[i])\n",
    "print (cX_cv[0:2])"
   ]
  },
  {
   "cell_type": "markdown",
   "metadata": {},
   "source": [
    "# Removing Html Tags from test data"
   ]
  },
  {
   "cell_type": "code",
   "execution_count": 17,
   "metadata": {},
   "outputs": [
    {
     "name": "stdout",
     "output_type": "stream",
     "text": [
      "['b\"i was a little hesitant when i read it had a herbal taste , i like a conventional tasting coffee. it just arrived and i immediately brewed a pot. i definitely wasn\\'t disappointed, i like this much more than the usual starbuck\\'s french roast\"', \"b'buyer beware, the worst flavored hot cocoa i have ever tasted. never again would i waste my $ for this product, i tried different machine sizes and options, the rest goes in the garbage. what a rip off with two packages.'\"]\n"
     ]
    }
   ],
   "source": [
    "for i in range(len(cX_test)):\n",
    "    cX_test[i]=re.sub(r'<.*?>', '', cX_test[i])\n",
    "print (cX_test[0:2])"
   ]
  },
  {
   "cell_type": "markdown",
   "metadata": {},
   "source": [
    "# Removing Special Characters"
   ]
  },
  {
   "cell_type": "code",
   "execution_count": 18,
   "metadata": {
    "scrolled": true
   },
   "outputs": [
    {
     "name": "stdout",
     "output_type": "stream",
     "text": [
      "['b this witty little book makes my son laugh at loud  i recite it in the car as we re driving along and he always can sing the refrain  he s learned about whales  india  drooping roses   i love all the new words this book  introduces and the silliness of it all   this is a classic book i am  willing to bet my son will still be able to recite from memory when he is  in college ', 'b i can remember seeing the show when it aired on television years ago  when i was a child   my sister later bought me the lp  which i have to this day   i m thirty something i used this series of books  amp  songs when i did my  student teaching for preschoolers  amp  turned the whole school on to it   i am now purchasing it on cd  along with the books for my children    amp      the tradition lives on ']\n"
     ]
    }
   ],
   "source": [
    "for i in range(len(cX_train)):\n",
    "    cX_train[i]=re.sub(r'[^a-zA-Z ]+', ' ', cX_train[i])\n",
    "print (cX_train[0:2])"
   ]
  },
  {
   "cell_type": "code",
   "execution_count": 39,
   "metadata": {},
   "outputs": [
    {
     "name": "stdout",
     "output_type": "stream",
     "text": [
      "['b i ve ordered this coffee several times   it has been excellent every time   it s not over roasted burnt tasting   the flavor is very complex   the beans are oily  black   i found no quakers  underdeveloped coffee beans that make coffee taste awful   they stick out because they do not roast darken properly   that s a good test of coffee beans   empty the bag on a cookie sheet   see how many quakers you find   a few is  acceptable  but more than   is pretty bad in my opinion   if you ve always been disappointed in dark roast coffee  you may want to give this a try but if you just don t like dark roast  you will probably not like this one i use the  pour over  method to brew coffee every day because at this time  there is only one non commercial drip coffeemaker that gets water to the ideal brewing temperature of  f to   f   i use cold  filtered water  a melitta natural brown filter  manual drip coffee filter   brew directly into my stainless carafe   i heat the water to boiling  pour a few tablespoons over the grounds to saturate   plump up the beans  wait a minute   then flood the grounds with the rest of the water   there is a lot of crema  the beautiful reddish brown foam that develops on top of the beans    it smells   tastes wonderful i brew directly in to this carafe using this coffee cone  pour over method rsvp manual drip coffee filter cone for carafes or thermosi use this grinder bodum bistro electric burr coffee grinder  blacki use this water kettle to heat the water oster   stainless steel  liter electric water kettlei use these coffee filters melitta     count   natural brown cone coffee filters ', 'b love this stuff   it s perfect for my favorite peruvian dish   great price too   i think it is about time to reorder  as a matter of fact ']\n"
     ]
    }
   ],
   "source": [
    "for i in range(len(cX_cv)):\n",
    "    cX_cv[i]=re.sub(r'[^a-zA-Z ]+', ' ', cX_cv[i])\n",
    "print (cX_cv[0:2])"
   ]
  },
  {
   "cell_type": "code",
   "execution_count": 19,
   "metadata": {},
   "outputs": [
    {
     "name": "stdout",
     "output_type": "stream",
     "text": [
      "['b i was a little hesitant when i read it had a herbal taste   i like a conventional tasting coffee  it just arrived and i immediately brewed a pot  i definitely wasn t disappointed  i like this much more than the usual starbuck s french roast ', 'b buyer beware  the worst flavored hot cocoa i have ever tasted  never again would i waste my   for this product  i tried different machine sizes and options  the rest goes in the garbage  what a rip off with two packages ']\n"
     ]
    }
   ],
   "source": [
    "for i in range(len(cX_test)):\n",
    "    cX_test[i]=re.sub(r'[^a-zA-Z ]+', ' ', cX_test[i])\n",
    "print (cX_test[0:2])"
   ]
  },
  {
   "cell_type": "markdown",
   "metadata": {},
   "source": [
    "# Removing Stopwords"
   ]
  },
  {
   "cell_type": "code",
   "execution_count": 21,
   "metadata": {},
   "outputs": [
    {
     "name": "stdout",
     "output_type": "stream",
     "text": [
      "['b witty little book makes son laugh loud recite car driving along always sing refrain learned whales india drooping roses love new words book introduces silliness classic book willing bet son still able recite memory college', 'b remember seeing show aired television years ago child sister later bought lp day thirty something used series books amp songs student teaching preschoolers amp turned whole school purchasing cd along books children amp tradition lives']\n"
     ]
    }
   ],
   "source": [
    "from nltk.corpus import stopwords\n",
    "from nltk.tokenize import word_tokenize\n",
    "\n",
    "stopword=set(stopwords.words('english'))\n",
    "for i in range(len(cX_train)):\n",
    "    text_stoprm=[]\n",
    "    text_tokens=[]\n",
    "    text_tokens=cX_train[i].split()\n",
    "    for r in text_tokens:\n",
    "        if not r in stopword:\n",
    "            text_stoprm.append(r)\n",
    "    cX_train[i]=' '.join(text_stoprm)\n",
    "    \n",
    "print (cX_train[0:2])"
   ]
  },
  {
   "cell_type": "code",
   "execution_count": 40,
   "metadata": {},
   "outputs": [
    {
     "name": "stdout",
     "output_type": "stream",
     "text": [
      "['b ordered coffee several times excellent every time roasted burnt tasting flavor complex beans oily black found quakers underdeveloped coffee beans make coffee taste awful stick roast darken properly good test coffee beans empty bag cookie sheet see many quakers find acceptable pretty bad opinion always disappointed dark roast coffee may want give try like dark roast probably like one use pour method brew coffee every day time one non commercial drip coffeemaker gets water ideal brewing temperature f f use cold filtered water melitta natural brown filter manual drip coffee filter brew directly stainless carafe heat water boiling pour tablespoons grounds saturate plump beans wait minute flood grounds rest water lot crema beautiful reddish brown foam develops top beans smells tastes wonderful brew directly carafe using coffee cone pour method rsvp manual drip coffee filter cone carafes thermosi use grinder bodum bistro electric burr coffee grinder blacki use water kettle heat water oster stainless steel liter electric water kettlei use coffee filters melitta count natural brown cone coffee filters', 'b love stuff perfect favorite peruvian dish great price think time reorder matter fact']\n"
     ]
    }
   ],
   "source": [
    "for i in range(len(cX_cv)):\n",
    "    text_stoprm=[]\n",
    "    text_tokens=[]\n",
    "    text_tokens=cX_cv[i].split()\n",
    "    for r in text_tokens:\n",
    "        if not r in stopword:\n",
    "            text_stoprm.append(r)\n",
    "    cX_cv[i]=' '.join(text_stoprm)\n",
    "    \n",
    "print (cX_cv[0:2])"
   ]
  },
  {
   "cell_type": "code",
   "execution_count": 23,
   "metadata": {},
   "outputs": [
    {
     "name": "stdout",
     "output_type": "stream",
     "text": [
      "['b little hesitant read herbal taste like conventional tasting coffee arrived immediately brewed pot definitely disappointed like much usual starbuck french roast', 'b buyer beware worst flavored hot cocoa ever tasted never would waste product tried different machine sizes options rest goes garbage rip two packages']\n"
     ]
    }
   ],
   "source": [
    "for i in range(len(cX_test)):\n",
    "    text_stoprm=[]\n",
    "    text_tokens=[]\n",
    "    text_tokens=cX_test[i].split()\n",
    "    for r in text_tokens:\n",
    "        if not r in stopword:\n",
    "            text_stoprm.append(r)\n",
    "    cX_test[i]=' '.join(text_stoprm)\n",
    "    \n",
    "print( cX_test[0:2])"
   ]
  },
  {
   "cell_type": "markdown",
   "metadata": {},
   "source": [
    "# Stemming Data"
   ]
  },
  {
   "cell_type": "code",
   "execution_count": 25,
   "metadata": {},
   "outputs": [],
   "source": [
    "from nltk.stem.snowball import SnowballStemmer\n",
    "stemmer =SnowballStemmer('english')\n",
    "\n",
    "for i in range(len(cX_train)):\n",
    "    text_stem=[]\n",
    "    text_tokens=[]\n",
    "    text_tokens=cX_train[i].split()\n",
    "    for r in text_tokens:\n",
    "        text_stem.append(str(stemmer.stem(r)))\n",
    "    cX_train[i]=' '.join(text_stem)\n",
    "    \n"
   ]
  },
  {
   "cell_type": "code",
   "execution_count": 41,
   "metadata": {},
   "outputs": [],
   "source": [
    "\n",
    "for i in range(len(cX_cv)):\n",
    "    text_stem=[]\n",
    "    text_tokens=[]\n",
    "    text_tokens=cX_cv[i].split()\n",
    "    for r in text_tokens:\n",
    "        text_stem.append(str(stemmer.stem(r)))\n",
    "    cX_cv[i]=' '.join(text_stem)\n",
    "    "
   ]
  },
  {
   "cell_type": "code",
   "execution_count": 26,
   "metadata": {},
   "outputs": [],
   "source": [
    "from nltk.stem.snowball import SnowballStemmer\n",
    "stemmer =SnowballStemmer('english')\n",
    "\n",
    "for i in range(len(cX_test)):\n",
    "    text_stem=[]\n",
    "    text_tokens=[]\n",
    "    text_tokens=cX_test[i].split()\n",
    "    for r in text_tokens:\n",
    "        text_stem.append(str(stemmer.stem(r)))\n",
    "    cX_test[i]=' '.join(text_stem)\n",
    "    \n"
   ]
  },
  {
   "cell_type": "markdown",
   "metadata": {},
   "source": [
    "# Converting the Bag of Words"
   ]
  },
  {
   "cell_type": "code",
   "execution_count": 27,
   "metadata": {},
   "outputs": [],
   "source": [
    "vec=CountVectorizer()\n",
    "X_train_bow=vec.fit_transform(cX_train)"
   ]
  },
  {
   "cell_type": "code",
   "execution_count": 42,
   "metadata": {},
   "outputs": [
    {
     "data": {
      "text/plain": [
       "(315488, 65586)"
      ]
     },
     "execution_count": 42,
     "metadata": {},
     "output_type": "execute_result"
    }
   ],
   "source": [
    "X_train_bow.shape"
   ]
  },
  {
   "cell_type": "code",
   "execution_count": 44,
   "metadata": {},
   "outputs": [],
   "source": [
    "X_cv_bow=vec.transform(cX_cv)"
   ]
  },
  {
   "cell_type": "code",
   "execution_count": 45,
   "metadata": {},
   "outputs": [
    {
     "data": {
      "text/plain": [
       "(105163, 65586)"
      ]
     },
     "execution_count": 45,
     "metadata": {},
     "output_type": "execute_result"
    }
   ],
   "source": [
    "X_cv_bow.shape"
   ]
  },
  {
   "cell_type": "code",
   "execution_count": 29,
   "metadata": {},
   "outputs": [],
   "source": [
    "X_test_bow=vec.transform(cX_test)"
   ]
  },
  {
   "cell_type": "code",
   "execution_count": 43,
   "metadata": {},
   "outputs": [
    {
     "data": {
      "text/plain": [
       "(105163, 65586)"
      ]
     },
     "execution_count": 43,
     "metadata": {},
     "output_type": "execute_result"
    }
   ],
   "source": [
    "X_test_bow.shape"
   ]
  },
  {
   "cell_type": "markdown",
   "metadata": {},
   "source": [
    "# Navie Bayes Classifier"
   ]
  },
  {
   "cell_type": "markdown",
   "metadata": {},
   "source": [
    "Here I used Multinomial Navie Bayes Classifer"
   ]
  },
  {
   "cell_type": "code",
   "execution_count": 93,
   "metadata": {},
   "outputs": [
    {
     "name": "stdout",
     "output_type": "stream",
     "text": [
      "for alpha 1e-05 accuracy score is 0.8856156633036334\n",
      "for alpha 0.0001 accuracy score is 0.886528531898101\n",
      "for alpha 0.001 accuracy score is 0.8882496695605869\n",
      "for alpha 0.01 accuracy score is 0.8900944248452403\n",
      "for alpha 0.1 accuracy score is 0.8917775263162899\n",
      "for alpha 1 accuracy score is 0.8940692068503181\n",
      "for alpha 10 accuracy score is 0.8677957076157964\n",
      "for alpha 100 accuracy score is 0.8221712959881327\n",
      "for alpha 1000 accuracy score is 0.822237859323146\n",
      "----------------------------------------------------------------------------------------------------\n",
      "the best alpha is  1 and score on CV is 0.8940692068503181\n",
      "----------------------------------------------------------------------------------------------------\n",
      "train accuracy is 0.915965108023126\n",
      "cv accuracy 0.8940692068503181\n",
      "test accuracy 0.8933465192130312\n"
     ]
    }
   ],
   "source": [
    "from sklearn.naive_bayes import MultinomialNB\n",
    "from sklearn.metrics import accuracy_score\n",
    "\n",
    "alpha=[0.00001,0.0001,0.001,0.01,0.1,1,10,100,1000]\n",
    "maxval=0\n",
    "bestalpha=0\n",
    "for i in alpha:\n",
    "    clf=MultinomialNB(alpha=i)\n",
    "    clf.fit(X_train_bow,y_train)\n",
    "    cvpredicted=clf.predict(X_cv_bow)\n",
    "    score=accuracy_score(y_cv,cvpredicted)\n",
    "    print('for alpha',i,'accuracy score is',score)\n",
    "    if(maxval<score):\n",
    "        maxval=score\n",
    "        bestalpha=i\n",
    "print('-'*100)\n",
    "print('the best alpha is ',bestalpha,'and score on CV is',maxval)\n",
    "\n",
    "print('-'*100)\n",
    "\n",
    "#for test data\n",
    "clf=MultinomialNB(alpha=bestalpha)\n",
    "clf.fit(X_train_bow,y_train)\n",
    "\n",
    "trainpredicted=clf.predict(X_train_bow)\n",
    "score=accuracy_score(y_train,trainpredicted)\n",
    "print('train accuracy is',score)\n",
    "\n",
    "cvpredicted=clf.predict(X_cv_bow)\n",
    "score=accuracy_score(y_cv,cvpredicted)\n",
    "print('cv accuracy',score)\n",
    "\n",
    "testpredicted=clf.predict(X_test_bow)\n",
    "score=accuracy_score(y_test,testpredicted)\n",
    "print('test accuracy',score)\n"
   ]
  },
  {
   "cell_type": "code",
   "execution_count": 94,
   "metadata": {},
   "outputs": [
    {
     "name": "stdout",
     "output_type": "stream",
     "text": [
      "             precision    recall  f1-score   support\n",
      "\n",
      "   negative       0.70      0.65      0.67     17840\n",
      "   positive       0.93      0.94      0.94     87323\n",
      "\n",
      "avg / total       0.89      0.89      0.89    105163\n",
      "\n"
     ]
    }
   ],
   "source": [
    "from sklearn.metrics import classification_report\n",
    "\n",
    "classifiaction_rep=classification_report(y_test,testpredicted)\n",
    "\n",
    "print(classifiaction_rep)"
   ]
  },
  {
   "cell_type": "code",
   "execution_count": 95,
   "metadata": {},
   "outputs": [
    {
     "data": {
      "text/plain": [
       "<matplotlib.axes._subplots.AxesSubplot at 0x7f28d2e76358>"
      ]
     },
     "execution_count": 95,
     "metadata": {},
     "output_type": "execute_result"
    },
    {
     "data": {
      "image/png": "[encoded data removed]",
      "text/plain": [
       "<matplotlib.figure.Figure at 0x7f28d2e13a20>"
      ]
     },
     "metadata": {},
     "output_type": "display_data"
    }
   ],
   "source": [
    "from sklearn.metrics import confusion_matrix\n",
    "import seaborn as sns\n",
    "\n",
    "matrix=confusion_matrix(testpredicted,y_test)\n",
    "sns.heatmap(matrix,annot=True,cmap='YlGnBu')"
   ]
  },
  {
   "cell_type": "code",
   "execution_count": 96,
   "metadata": {},
   "outputs": [
    {
     "data": {
      "image/png": "[encoded data removed]",
      "text/plain": [
       "<matplotlib.figure.Figure at 0x7f28d3728f28>"
      ]
     },
     "metadata": {},
     "output_type": "display_data"
    }
   ],
   "source": [
    "from sklearn import metrics\n",
    "\n",
    "def formatt(x):\n",
    "    if x == 'negative':\n",
    "        return 0\n",
    "    return 1\n",
    "\n",
    "vfunc=np.vectorize(formatt)\n",
    "\n",
    "fpr, tpr, thresholds = metrics.roc_curve(y_test.map(formatt),vfunc(testpredicted))\n",
    "roc_auc = auc(fpr, tpr)\n",
    "plt.plot(fpr, tpr, label='AUC %f'% roc_auc)\n",
    "\n",
    "plt.title('Naive Bayes with ROC')\n",
    "plt.legend(loc='lower right')\n",
    "plt.plot([0,1],[0,1],'r--')\n",
    "plt.xlim([-0.1,1.2])\n",
    "plt.ylim([-0.1,1.2])\n",
    "plt.ylabel('True Positive Rate')\n",
    "plt.xlabel('False Positive Rate')\n",
    "plt.show()"
   ]
  },
  {
   "cell_type": "markdown",
   "metadata": {},
   "source": [
    "# Logistic Regression"
   ]
  },
  {
   "cell_type": "code",
   "execution_count": 97,
   "metadata": {},
   "outputs": [
    {
     "name": "stdout",
     "output_type": "stream",
     "text": [
      "for alpha 1e-05 accuracy score is 0.822237859323146\n",
      "for alpha 0.0001 accuracy score is 0.8316898528950296\n",
      "for alpha 0.001 accuracy score is 0.8803286326940083\n",
      "for alpha 0.01 accuracy score is 0.9060125709612696\n",
      "for alpha 0.1 accuracy score is 0.9142759335507735\n",
      "for alpha 1 accuracy score is 0.9136578454399361\n",
      "for alpha 10 accuracy score is 0.9113756739537671\n",
      "for alpha 100 accuracy score is 0.9111569658530091\n",
      "for alpha 1000 accuracy score is 0.9112045110923044\n",
      "----------------------------------------------------------------------------------------------------\n",
      "the best alpha is  0.1 and score on CV is 0.9142759335507735\n",
      "----------------------------------------------------------------------------------------------------\n",
      "train accuracy is 0.9408662136119282\n",
      "cv accuracy 0.9142759335507735\n",
      "test accuracy 0.913134847807689\n"
     ]
    }
   ],
   "source": [
    "from sklearn.linear_model import LogisticRegression\n",
    "\n",
    "alpha=[0.00001,0.0001,0.001,0.01,0.1,1,10,100,1000]\n",
    "maxval=0\n",
    "bestalpha=0\n",
    "for i in alpha:\n",
    "    clf=LogisticRegression(C=i)\n",
    "    clf.fit(X_train_bow,y_train)\n",
    "    cvpredicted=clf.predict(X_cv_bow)\n",
    "    score=accuracy_score(y_cv,cvpredicted)\n",
    "    print('for alpha',i,'accuracy score is',score)\n",
    "    if(maxval<score):\n",
    "        maxval=score\n",
    "        bestalpha=i\n",
    "print('-'*100)\n",
    "print('the best alpha is ',bestalpha,'and score on CV is',maxval)\n",
    "\n",
    "print('-'*100)\n",
    "\n",
    "#for test data\n",
    "clf=LogisticRegression(C=bestalpha)\n",
    "clf.fit(X_train_bow,y_train)\n",
    "\n",
    "trainpredicted=clf.predict(X_train_bow)\n",
    "score=accuracy_score(y_train,trainpredicted)\n",
    "print('train accuracy is',score)\n",
    "\n",
    "cvpredicted=clf.predict(X_cv_bow)\n",
    "score=accuracy_score(y_cv,cvpredicted)\n",
    "print('cv accuracy',score)\n",
    "\n",
    "testpredicted=clf.predict(X_test_bow)\n",
    "score=accuracy_score(y_test,testpredicted)\n",
    "print('test accuracy',score)\n"
   ]
  },
  {
   "cell_type": "code",
   "execution_count": 98,
   "metadata": {},
   "outputs": [
    {
     "name": "stdout",
     "output_type": "stream",
     "text": [
      "             precision    recall  f1-score   support\n",
      "\n",
      "   negative       0.81      0.63      0.71     17840\n",
      "   positive       0.93      0.97      0.95     87323\n",
      "\n",
      "avg / total       0.91      0.91      0.91    105163\n",
      "\n"
     ]
    }
   ],
   "source": [
    "classifiaction_rep=classification_report(y_test,testpredicted)\n",
    "\n",
    "print (classifiaction_rep)"
   ]
  },
  {
   "cell_type": "code",
   "execution_count": 101,
   "metadata": {},
   "outputs": [
    {
     "data": {
      "text/plain": [
       "<matplotlib.axes._subplots.AxesSubplot at 0x7f28d28f7c18>"
      ]
     },
     "execution_count": 101,
     "metadata": {},
     "output_type": "execute_result"
    },
    {
     "data": {
      "image/png": "[encoded data removed]",
      "text/plain": [
       "<matplotlib.figure.Figure at 0x7f28d36ac7b8>"
      ]
     },
     "metadata": {},
     "output_type": "display_data"
    }
   ],
   "source": [
    "matrix=confusion_matrix(testpredicted,y_test)\n",
    "sns.heatmap(matrix,annot=True,cmap='YlGnBu')"
   ]
  },
  {
   "cell_type": "code",
   "execution_count": 100,
   "metadata": {},
   "outputs": [
    {
     "data": {
      "image/png": "[encoded data removed]",
      "text/plain": [
       "<matplotlib.figure.Figure at 0x7f28d3186550>"
      ]
     },
     "metadata": {},
     "output_type": "display_data"
    }
   ],
   "source": [
    "fpr, tpr, thresholds = metrics.roc_curve(y_test.map(formatt),vfunc(testpredicted))\n",
    "roc_auc = auc(fpr, tpr)\n",
    "plt.plot(fpr, tpr, label='AUC %f'% roc_auc)\n",
    "\n",
    "plt.title('Logistic Regression classification ROC')\n",
    "plt.legend(loc='lower right')\n",
    "plt.plot([0,1],[0,1],'r--')\n",
    "plt.xlim([-0.1,1.2])\n",
    "plt.ylim([-0.1,1.2])\n",
    "plt.ylabel('True Positive Rate')\n",
    "plt.xlabel('False Positive Rate')\n",
    "plt.show()"
   ]
  },
  {
   "cell_type": "markdown",
   "metadata": {},
   "source": [
    "# Linear SVM"
   ]
  },
  {
   "cell_type": "code",
   "execution_count": 102,
   "metadata": {},
   "outputs": [
    {
     "name": "stderr",
     "output_type": "stream",
     "text": [
      "/home/varma/anaconda3/lib/python3.6/site-packages/sklearn/linear_model/stochastic_gradient.py:128: FutureWarning: max_iter and tol parameters have been added in <class 'sklearn.linear_model.stochastic_gradient.SGDClassifier'> in 0.19. If both are left unset, they default to max_iter=5 and tol=None. If tol is not None, max_iter defaults to max_iter=1000. From 0.21, default max_iter will be 1000, and default tol will be 1e-3.\n",
      "  \"and default tol will be 1e-3.\" % type(self), FutureWarning)\n"
     ]
    },
    {
     "name": "stdout",
     "output_type": "stream",
     "text": [
      "for alpha 1e-05 accuracy score is 0.9019331894297424\n",
      "for alpha 0.0001 accuracy score is 0.9120317982560406\n",
      "for alpha 0.001 accuracy score is 0.9033975828000342\n",
      "for alpha 0.01 accuracy score is 0.8730447020339853\n",
      "for alpha 0.1 accuracy score is 0.8236832345977197\n",
      "for alpha 1 accuracy score is 0.822237859323146\n",
      "for alpha 10 accuracy score is 0.822237859323146\n",
      "for alpha 100 accuracy score is 0.822237859323146\n",
      "for alpha 1000 accuracy score is 0.822237859323146\n",
      "----------------------------------------------------------------------------------------------------\n",
      "the best alpha is  0.0001 and score on CV is 0.9120317982560406\n",
      "----------------------------------------------------------------------------------------------------\n",
      "train accuracy is 0.9371354853433411\n",
      "cv accuracy 0.9117179996766924\n",
      "test accuracy 0.9115848730066658\n"
     ]
    }
   ],
   "source": [
    "from sklearn.linear_model import SGDClassifier\n",
    "\n",
    "alpha=[0.00001,0.0001,0.001,0.01,0.1,1,10,100,1000]\n",
    "maxval=0\n",
    "bestalpha=0\n",
    "for i in alpha:\n",
    "    clf=SGDClassifier(loss='hinge',alpha=i,penalty='l2',n_jobs=-1)\n",
    "    clf.fit(X_train_bow,y_train)\n",
    "    cvpredicted=clf.predict(X_cv_bow)\n",
    "    score=accuracy_score(y_cv,cvpredicted)\n",
    "    print('for alpha',i,'accuracy score is',score)\n",
    "    if(maxval<score):\n",
    "        maxval=score\n",
    "        bestalpha=i\n",
    "print('-'*100)\n",
    "\n",
    "print('the best alpha is ',bestalpha,'and score on CV is',maxval)\n",
    "\n",
    "print('-'*100)\n",
    "\n",
    "#for test data\n",
    "clf=SGDClassifier(loss='hinge',alpha=bestalpha,penalty='l2',n_jobs=-1)\n",
    "clf.fit(X_train_bow,y_train)\n",
    "\n",
    "trainpredicted=clf.predict(X_train_bow)\n",
    "score=accuracy_score(y_train,trainpredicted)\n",
    "print('train accuracy is',score)\n",
    "\n",
    "cvpredicted=clf.predict(X_cv_bow)\n",
    "score=accuracy_score(y_cv,cvpredicted)\n",
    "print('cv accuracy',score)\n",
    "\n",
    "testpredicted=clf.predict(X_test_bow)\n",
    "score=accuracy_score(y_test,testpredicted)\n",
    "print('test accuracy',score)\n"
   ]
  },
  {
   "cell_type": "code",
   "execution_count": 103,
   "metadata": {},
   "outputs": [
    {
     "name": "stdout",
     "output_type": "stream",
     "text": [
      "             precision    recall  f1-score   support\n",
      "\n",
      "   negative       0.81      0.63      0.71     17840\n",
      "   positive       0.93      0.97      0.95     87323\n",
      "\n",
      "avg / total       0.91      0.91      0.91    105163\n",
      "\n"
     ]
    }
   ],
   "source": [
    "classifiaction_rep=classification_report(y_test,testpredicted)\n",
    "\n",
    "print(classifiaction_rep)"
   ]
  },
  {
   "cell_type": "code",
   "execution_count": 104,
   "metadata": {},
   "outputs": [
    {
     "data": {
      "text/plain": [
       "<matplotlib.axes._subplots.AxesSubplot at 0x7f28d00940b8>"
      ]
     },
     "execution_count": 104,
     "metadata": {},
     "output_type": "execute_result"
    },
    {
     "data": {
      "image/png": "[encoded data removed]",
      "text/plain": [
       "<matplotlib.figure.Figure at 0x7f28d0094860>"
      ]
     },
     "metadata": {},
     "output_type": "display_data"
    }
   ],
   "source": [
    "matrix=confusion_matrix(testpredicted,y_test)\n",
    "\n",
    "sns.heatmap(matrix,annot=True,cmap='YlGnBu')"
   ]
  },
  {
   "cell_type": "code",
   "execution_count": 105,
   "metadata": {},
   "outputs": [
    {
     "data": {
      "image/png": "[encoded data removed]",
      "text/plain": [
       "<matplotlib.figure.Figure at 0x7f28c3fbfb70>"
      ]
     },
     "metadata": {},
     "output_type": "display_data"
    }
   ],
   "source": [
    "fpr, tpr, thresholds = metrics.roc_curve(y_test.map(formatt),vfunc(testpredicted))\n",
    "roc_auc = auc(fpr, tpr)\n",
    "plt.plot(fpr, tpr, label='AUC %f'% roc_auc)\n",
    "\n",
    "plt.title('Logistic Regression classification ROC')\n",
    "plt.legend(loc='lower right')\n",
    "plt.plot([0,1],[0,1],'r--')\n",
    "plt.xlim([-0.1,1.2])\n",
    "plt.ylim([-0.1,1.2])\n",
    "plt.ylabel('True Positive Rate')\n",
    "plt.xlabel('False Positive Rate')\n",
    "plt.show()"
   ]
  },
  {
   "cell_type": "code",
   "execution_count": 107,
   "metadata": {},
   "outputs": [
    {
     "name": "stdout",
     "output_type": "stream",
     "text": [
      "for alpha 10 accuracy score is 0.8673963276057168\n",
      "for alpha 50 accuracy score is 0.8615958084117037\n",
      "for alpha 100 accuracy score is 0.8606449036257999\n",
      "for alpha 500 accuracy score is 0.8572977187794186\n",
      "for alpha 1000 accuracy score is 0.8566225763814269\n",
      "for alpha 2000 accuracy score is 0.8570409744872246\n",
      "----------------------------------------------------------------------------------------------------\n",
      "the best alpha is  10 and score on CV is 0.8673963276057168\n",
      "----------------------------------------------------------------------------------------------------\n",
      "train accuracy is 0.9980221117760422\n",
      "cv accuracy 0.8685469223966604\n",
      "test accuracy 0.8711333834143187\n"
     ]
    }
   ],
   "source": [
    "from sklearn.ensemble import RandomForestClassifier\n",
    "\n",
    "alpha=[10,50,100,500,1000,2000]\n",
    "\n",
    "maxval=0\n",
    "bestalpha=0\n",
    "for i in alpha:\n",
    "    clf=RandomForestClassifier(n_estimators=i,n_jobs=-1)\n",
    "    clf.fit(X_train_bow,y_train)\n",
    "    cvpredicted=clf.predict(X_cv_bow)\n",
    "    score=accuracy_score(y_cv,cvpredicted)\n",
    "    print('for alpha',i,'accuracy score is',score)\n",
    "    if(maxval<score):\n",
    "        maxval=score\n",
    "        bestalpha=i\n",
    "print('-'*100)\n",
    "print('the best alpha is ',bestalpha,'and score on CV is',maxval)\n",
    "\n",
    "print('-'*100)\n",
    "\n",
    "#for test data\n",
    "clf=RandomForestClassifier(n_estimators=bestalpha,n_jobs=-1)\n",
    "clf.fit(X_train_bow,y_train)\n",
    "\n",
    "trainpredicted=clf.predict(X_train_bow)\n",
    "score=accuracy_score(y_train,trainpredicted)\n",
    "print('train accuracy is',score)\n",
    "\n",
    "cvpredicted=clf.predict(X_cv_bow)\n",
    "score=accuracy_score(y_cv,cvpredicted)\n",
    "print('cv accuracy',score)\n",
    "\n",
    "testpredicted=clf.predict(X_test_bow)\n",
    "score=accuracy_score(y_test,testpredicted)\n",
    "print('test accuracy',score)\n"
   ]
  },
  {
   "cell_type": "markdown",
   "metadata": {},
   "source": [
    "- For randomforest the model is overfit to the data"
   ]
  }
 ],
 "metadata": {
  "kernelspec": {
   "display_name": "Python 3",
   "language": "python",
   "name": "python3"
  },
  "language_info": {
   "codemirror_mode": {
    "name": "ipython",
    "version": 3
   },
   "file_extension": ".py",
   "mimetype": "text/x-python",
   "name": "python",
   "nbconvert_exporter": "python",
   "pygments_lexer": "ipython3",
   "version": "3.6.4"
  }
 },
 "nbformat": 4,
 "nbformat_minor": 2
}
